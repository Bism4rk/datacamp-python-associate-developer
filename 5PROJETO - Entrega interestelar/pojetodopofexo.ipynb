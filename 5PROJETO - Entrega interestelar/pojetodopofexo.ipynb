{
 "cells": [
  {
   "cell_type": "code",
   "execution_count": null,
   "id": "e8f0a8a9",
   "metadata": {},
   "outputs": [],
   "source": [
    "# Re-run this cell\n",
    "from datetime import datetime, timedelta"
   ]
  },
  {
   "cell_type": "code",
   "execution_count": null,
   "id": "37690d2a",
   "metadata": {},
   "outputs": [],
   "source": [
    "# Start coding here. Use as many cells as you need."
   ]
  },
  {
   "cell_type": "code",
   "execution_count": null,
   "id": "c5e5da53",
   "metadata": {},
   "outputs": [],
   "source": [
    "def format_date(timestamp, datetime_format):\n",
    "    actual_date = datetime.fromtimestamp(timestamp)\n",
    "    formatted_date = actual_date.strftime(datetime_format)\n",
    "    return formatted_date\n",
    "\n",
    "format_date(1514665153, \"%d-%m-%Y\")"
   ]
  },
  {
   "cell_type": "code",
   "execution_count": null,
   "id": "18f4a046",
   "metadata": {},
   "outputs": [],
   "source": [
    "def calculate_landing_time(rocket_launch_dt, travel_duration):\n",
    "    test_thing = timedelta(days=travel_duration)\n",
    "    landing_time = rocket_launch_dt + test_thing\n",
    "    formatted_time = landing_time.strftime(\"%d-%m-%Y\")\n",
    "    return formatted_time\n",
    "\n",
    "calculate_landing_time(datetime(2023, 2, 15), 20)"
   ]
  },
  {
   "cell_type": "code",
   "execution_count": null,
   "id": "1f525f9c",
   "metadata": {},
   "outputs": [],
   "source": [
    "from datetime import datetime, timedelta\n",
    "\n",
    "def days_until_delivery(expected_delivery_dt, current_dt):\n",
    "    days = (expected_delivery_dt - current_dt).days\n",
    "    return days\n",
    "\n",
    "days_until_delivery(datetime(2023, 2, 15), datetime(2023, 2, 5))"
   ]
  }
 ],
 "metadata": {
  "language_info": {
   "name": "python"
  }
 },
 "nbformat": 4,
 "nbformat_minor": 5
}
